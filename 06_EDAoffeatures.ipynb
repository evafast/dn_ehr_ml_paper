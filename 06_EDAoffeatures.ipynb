{
 "cells": [
  {
   "cell_type": "markdown",
   "metadata": {},
   "source": [
    "**06_EDAoffeatures**\n",
    "\n",
    "\n",
    "used this container: \n",
    "ml:1.0"
   ]
  },
  {
   "cell_type": "code",
   "execution_count": 1,
   "metadata": {},
   "outputs": [
    {
     "name": "stderr",
     "output_type": "stream",
     "text": [
      "<jemalloc>: MADV_DONTNEED does not work (memset will be used instead)\n",
      "<jemalloc>: (This is the expected behaviour if you are running under QEMU)\n"
     ]
    }
   ],
   "source": [
    "# load packages\n",
    "import numpy as np\n",
    "import scipy as sp\n",
    "import pandas as pd\n",
    "import matplotlib.pyplot as plt\n",
    "from matplotlib import rcParams\n",
    "from matplotlib import colors\n",
    "import seaborn as sns\n",
    "import math\n",
    "\n",
    "from sklearn.impute import SimpleImputer\n",
    "from sklearn.base import BaseEstimator,TransformerMixin\n",
    "\n",
    "from pandas_profiling import ProfileReport\n",
    "\n",
    "from statistics import mean\n",
    "import math\n",
    "from scipy import stats\n",
    "\n",
    "%matplotlib inline"
   ]
  },
  {
   "cell_type": "code",
   "execution_count": 2,
   "metadata": {},
   "outputs": [],
   "source": [
    "if __name__ == \"__main__\":\n",
    "    \n",
    "    #this is for the outlier trimming\n",
    "    \n",
    "    class OutlierRemover(BaseEstimator,TransformerMixin):\n",
    "        def __init__(self,factor=1.5):\n",
    "            self.factor = factor\n",
    "\n",
    "        def outlier_detector(self,X,y=None):\n",
    "            X = pd.Series(X).copy()\n",
    "            q1 = X.quantile(0.1)\n",
    "            q3 = X.quantile(0.9)\n",
    "            iqr = q3 - q1\n",
    "            self.lower_bound.append(q1 - (self.factor * iqr))\n",
    "            self.upper_bound.append(q3 + (self.factor * iqr))\n",
    "\n",
    "        def fit(self,X,y=None):\n",
    "            self.lower_bound = []\n",
    "            self.upper_bound = []\n",
    "            X.apply(self.outlier_detector)\n",
    "            return self\n",
    "\n",
    "        def transform(self,X,y=None):\n",
    "            X = pd.DataFrame(X).copy()\n",
    "            for i in range(X.shape[1]):\n",
    "                x = X.iloc[:, i].copy()\n",
    "                x.loc[x < self.lower_bound[i]] = self.lower_bound[i]\n",
    "                x.loc[x > self.upper_bound[i]] = self.upper_bound[i]\n",
    "                X.iloc[:, i] = x\n",
    "            return X\n",
    "\n",
    "    outlier_remover = OutlierRemover()"
   ]
  },
  {
   "cell_type": "code",
   "execution_count": 3,
   "metadata": {},
   "outputs": [],
   "source": [
    "base_dir = '/home/jovyan/work/Goldfinch/ML_paper/'\n",
    "suffix = 'raw_data/intermediate_files/'"
   ]
  },
  {
   "cell_type": "markdown",
   "metadata": {},
   "source": [
    "df = pd.read_excel(f'{base_dir}raw_data/DKD_Abstracted_Data_v1.0_2021.04.27.xlsx', engine='openpyxl')\n",
    "df_map = pd.read_csv(f'{base_dir}raw_data/Tuttle_source_GRE_id_mapping.csv')\n",
    "df = pd.merge(df, df_map, left_on = \"CURE-CKD Patient ID\", right_on = \"source_subject_id\", how = 'inner')"
   ]
  },
  {
   "cell_type": "markdown",
   "metadata": {},
   "source": [
    "# read in dataframe of dataset with all patients included and all features"
   ]
  },
  {
   "cell_type": "code",
   "execution_count": 4,
   "metadata": {},
   "outputs": [],
   "source": [
    "# read input file\n",
    "input_df_path = f'{base_dir}raw_data/preprocessed_data/ef_agg_before_biopsy_0_years_0_gap.parquet'\n",
    "dfraw = pd.read_parquet(input_df_path, engine='pyarrow')\n",
    "\n",
    "# read the proceedure dictionary\n",
    "proc_df = pd.read_csv(f'{base_dir}raw_data/proc_mapping_file.csv')\n",
    "proc_dic = proc_df.set_index('procedure_code')['short_description'].to_dict()\n",
    "proc_dic.update({\"791.0\": \"Proteinuria\", \"250.00\": \"Type 2 diabetes mellitus without complications\", \"99211\": \"Office/outpatient visit-99211\" , \"99212\": \"Office/outpatient visit-99212\", \n",
    "            \"99213\": \"Office/outpatient visit-99213\", \"99214\": \"Office/outpatient visit-99214\", \"99215\": \"Office/outpatient visit-99215\"})\n",
    "\n",
    "#read the colnames\n",
    "colnames = pd.read_csv(f'{base_dir}{suffix}0_years_0/column_header.csv', header = None)\n",
    "colnames = colnames[0].tolist()\n",
    "\n",
    "# read the df to patient selection\n",
    "#dftest = pd.read_csv(f'{base_dir}{suffix}ML_target_variables_test.csv' , index=False, header=True)\n",
    "dftest = pd.read_csv(f'{base_dir}{suffix}ML_target_variables_test.csv' )\n",
    "dfvaltrain = pd.read_csv(f'{base_dir}{suffix}ML_target_variables_trainval.csv' )\n",
    "\n",
    "dfpat = pd.concat([dfvaltrain, dftest], ignore_index=True)\n",
    "dfpat = dfpat[['gfb_subject_id', 'is_DN', 'duration_dm', 'Diabetic_Retinopathy', 'age_biopsy']]\n",
    "\n",
    "#select test subject ids\n",
    "df = pd.merge(dfraw, dfpat, left_on = 'gfb_subject_id', right_on = 'gfb_subject_id', how = 'inner')\n",
    "\n",
    "#select relevant columns\n",
    "clean_colnames = list(set(colnames) - set(df.columns.tolist()))\n",
    "clean_colnames = pd.Series(clean_colnames).str.replace('_TRUE|_>10 years|_>5 years|_Not Reported|_Yes|_White/Caucasian|_Male|_Not Hispanic or Latino',\\\n",
    "                                '', regex=True)\n",
    "clean_colnames = list(set(clean_colnames)) #this gets rid of duplicates\n",
    "clean_colnames = list(clean_colnames) + list(set(colnames) & set(df.columns.tolist()))\n",
    "\n",
    "df_clean = df[clean_colnames]\n",
    "\n",
    "# add proceedure names\n",
    "colnames = df_clean.columns.tolist()\n",
    "colnames = [proc_dic.get(item,item)  for item in colnames]\n",
    "df_clean.columns = colnames\n",
    "\n",
    "# this is to remove/windsor the outliers\n",
    "df_cat = df_clean.select_dtypes(include= 'object')\n",
    "df_num = df_clean.select_dtypes(include='float')\n",
    "filt_num_feat = df_num.columns.tolist()\n",
    "\n",
    "outl = outlier_remover.fit_transform(df_num)\n",
    "df_outl = pd.DataFrame(outl, columns = filt_num_feat)\n",
    "\n",
    "df_clean_nooutl = pd.concat([df_outl, df_cat], axis=1)"
   ]
  },
  {
   "cell_type": "code",
   "execution_count": 5,
   "metadata": {},
   "outputs": [
    {
     "name": "stderr",
     "output_type": "stream",
     "text": [
      "/opt/conda/lib/python3.10/site-packages/multimethod/__init__.py:315: SettingWithCopyWarning: \n",
      "A value is trying to be set on a copy of a slice from a DataFrame\n",
      "\n",
      "See the caveats in the documentation: https://pandas.pydata.org/pandas-docs/stable/user_guide/indexing.html#returning-a-view-versus-a-copy\n",
      "  return func(*args, **kwargs)\n"
     ]
    },
    {
     "data": {
      "application/vnd.jupyter.widget-view+json": {
       "model_id": "5e4f75e9939c4d29a8a886a2db5cf48f",
       "version_major": 2,
       "version_minor": 0
      },
      "text/plain": [
       "Summarize dataset:   0%|          | 0/5 [00:00<?, ?it/s]"
      ]
     },
     "metadata": {},
     "output_type": "display_data"
    },
    {
     "name": "stderr",
     "output_type": "stream",
     "text": [
      "/opt/conda/lib/python3.10/site-packages/multimethod/__init__.py:315: FutureWarning: iteritems is deprecated and will be removed in a future version. Use .items instead.\n",
      "  return func(*args, **kwargs)\n",
      "/opt/conda/lib/python3.10/site-packages/multimethod/__init__.py:315: FutureWarning: In a future version, `df.iloc[:, i] = newvals` will attempt to set the values inplace instead of always setting a new array. To retain the old behavior, use either `df[df.columns[i]] = newvals` or, if columns are non-unique, `df.isetitem(i, newvals)`\n",
      "  return func(*args, **kwargs)\n",
      "/opt/conda/lib/python3.10/site-packages/multimethod/__init__.py:315: FutureWarning: The default value of numeric_only in DataFrame.corr is deprecated. In a future version, it will default to False. Select only valid columns or specify the value of numeric_only to silence this warning.\n",
      "  return func(*args, **kwargs)\n",
      "<jemalloc>: MADV_DONTNEED does not work (memset will be used instead)\n",
      "<jemalloc>: (This is the expected behaviour if you are running under QEMU)\n",
      "<jemalloc>: MADV_DONTNEED does not work (memset will be used instead)\n",
      "<jemalloc>: (This is the expected behaviour if you are running under QEMU)\n",
      "<jemalloc>: MADV_DONTNEED does not work (memset will be used instead)\n",
      "<jemalloc>: (This is the expected behaviour if you are running under QEMU)\n",
      "<jemalloc>: MADV_DONTNEED does not work (memset will be used instead)\n",
      "<jemalloc>: (This is the expected behaviour if you are running under QEMU)\n",
      "<jemalloc>: MADV_DONTNEED does not work (memset will be used instead)\n",
      "<jemalloc>: (This is the expected behaviour if you are running under QEMU)\n",
      "<jemalloc>: MADV_DONTNEED does not work (memset will be used instead)\n",
      "<jemalloc>: (This is the expected behaviour if you are running under QEMU)\n"
     ]
    },
    {
     "data": {
      "application/vnd.jupyter.widget-view+json": {
       "model_id": "3dd54b450e6244f9bed015f20861a42a",
       "version_major": 2,
       "version_minor": 0
      },
      "text/plain": [
       "Generate report structure:   0%|          | 0/1 [00:00<?, ?it/s]"
      ]
     },
     "metadata": {},
     "output_type": "display_data"
    },
    {
     "data": {
      "application/vnd.jupyter.widget-view+json": {
       "model_id": "5566c30d5fdc49efb0535958ed446cf3",
       "version_major": 2,
       "version_minor": 0
      },
      "text/plain": [
       "Render HTML:   0%|          | 0/1 [00:00<?, ?it/s]"
      ]
     },
     "metadata": {},
     "output_type": "display_data"
    },
    {
     "data": {
      "application/vnd.jupyter.widget-view+json": {
       "model_id": "9ba0fde89d104e73bb195f8ab6947276",
       "version_major": 2,
       "version_minor": 0
      },
      "text/plain": [
       "Export report to file:   0%|          | 0/1 [00:00<?, ?it/s]"
      ]
     },
     "metadata": {},
     "output_type": "display_data"
    },
    {
     "data": {
      "application/vnd.jupyter.widget-view+json": {
       "model_id": "e16baf5b9aef4a3781a95619cfa3f8e6",
       "version_major": 2,
       "version_minor": 0
      },
      "text/plain": [
       "Summarize dataset:   0%|          | 0/5 [00:00<?, ?it/s]"
      ]
     },
     "metadata": {},
     "output_type": "display_data"
    },
    {
     "name": "stderr",
     "output_type": "stream",
     "text": [
      "/opt/conda/lib/python3.10/site-packages/multimethod/__init__.py:315: FutureWarning: iteritems is deprecated and will be removed in a future version. Use .items instead.\n",
      "  return func(*args, **kwargs)\n",
      "/opt/conda/lib/python3.10/site-packages/multimethod/__init__.py:315: FutureWarning: In a future version, `df.iloc[:, i] = newvals` will attempt to set the values inplace instead of always setting a new array. To retain the old behavior, use either `df[df.columns[i]] = newvals` or, if columns are non-unique, `df.isetitem(i, newvals)`\n",
      "  return func(*args, **kwargs)\n",
      "/opt/conda/lib/python3.10/site-packages/multimethod/__init__.py:315: FutureWarning: The default value of numeric_only in DataFrame.corr is deprecated. In a future version, it will default to False. Select only valid columns or specify the value of numeric_only to silence this warning.\n",
      "  return func(*args, **kwargs)\n"
     ]
    },
    {
     "data": {
      "application/vnd.jupyter.widget-view+json": {
       "model_id": "b07f8ae1f63044a39051ecd99f8e28e5",
       "version_major": 2,
       "version_minor": 0
      },
      "text/plain": [
       "Generate report structure:   0%|          | 0/1 [00:00<?, ?it/s]"
      ]
     },
     "metadata": {},
     "output_type": "display_data"
    },
    {
     "data": {
      "application/vnd.jupyter.widget-view+json": {
       "model_id": "72d58f3807ca4b0485903e545883656e",
       "version_major": 2,
       "version_minor": 0
      },
      "text/plain": [
       "Render HTML:   0%|          | 0/1 [00:00<?, ?it/s]"
      ]
     },
     "metadata": {},
     "output_type": "display_data"
    },
    {
     "data": {
      "application/vnd.jupyter.widget-view+json": {
       "model_id": "5cffc9b6d9ba4dcb8beae26a7a409e2f",
       "version_major": 2,
       "version_minor": 0
      },
      "text/plain": [
       "Export report to file:   0%|          | 0/1 [00:00<?, ?it/s]"
      ]
     },
     "metadata": {},
     "output_type": "display_data"
    }
   ],
   "source": [
    "# raw version\n",
    "profile = ProfileReport(df_clean, title='ML Features Profiling report', explorative=True, correlations={\"cramers\": {\"calculate\": False}})\n",
    "profile.to_file(f'{base_dir}{suffix}ML_Features_Profiling_report.html')\n",
    "\n",
    "# no outliers\n",
    "profile = ProfileReport(df_clean_nooutl, title='ML Features Profiling report no outliers', explorative=True, correlations={\"cramers\": {\"calculate\": False}})\n",
    "profile.to_file(f'{base_dir}{suffix}ML_Features_Profiling_report_no_outl.html')"
   ]
  },
  {
   "cell_type": "code",
   "execution_count": 6,
   "metadata": {},
   "outputs": [],
   "source": [
    "# save as .csv\n",
    "\n",
    "df_clean.to_csv(f\"{base_dir}{suffix}clean_dataset.csv\", header=True, index=False)\n",
    "df_clean_nooutl.to_csv(f\"{base_dir}{suffix}clean_dataset_no_outlier.csv\", header=True, index=False)"
   ]
  },
  {
   "cell_type": "code",
   "execution_count": null,
   "metadata": {},
   "outputs": [],
   "source": []
  },
  {
   "cell_type": "code",
   "execution_count": null,
   "metadata": {},
   "outputs": [],
   "source": []
  }
 ],
 "metadata": {
  "kernelspec": {
   "display_name": "Python 3 (ipykernel)",
   "language": "python",
   "name": "python3"
  },
  "language_info": {
   "codemirror_mode": {
    "name": "ipython",
    "version": 3
   },
   "file_extension": ".py",
   "mimetype": "text/x-python",
   "name": "python",
   "nbconvert_exporter": "python",
   "pygments_lexer": "ipython3",
   "version": "3.10.6"
  },
  "toc-autonumbering": false
 },
 "nbformat": 4,
 "nbformat_minor": 4
}
